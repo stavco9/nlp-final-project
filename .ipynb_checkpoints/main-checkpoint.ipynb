{
 "cells": [
  {
   "cell_type": "code",
   "execution_count": 2,
   "id": "34eb7fb1-eacf-4c38-84c6-0e1abc968617",
   "metadata": {},
   "outputs": [],
   "source": [
    "import os\n",
    "import json\n",
    "import pandas as pd\n",
    "import numpy as np\n",
    "import requests\n",
    "from modules.transcript_dataset import TranscriptDataset"
   ]
  },
  {
   "cell_type": "code",
   "execution_count": 3,
   "id": "8f436902-03e9-4eeb-b255-2504901951da",
   "metadata": {},
   "outputs": [],
   "source": [
    "GOOGLE_API_KEY = '**************'\n",
    "CHANNELS = {\n",
    "    'CNN': 'UCupvZG-5ko_eiXAupbDfxWw'\n",
    "}    "
   ]
  },
  {
   "cell_type": "code",
   "execution_count": 4,
   "id": "d9127a4d-74c9-4107-a56a-4bf00849220b",
   "metadata": {},
   "outputs": [],
   "source": [
    "# UCupvZG-5ko_eiXAupbDfxWw = CNN\n",
    "dataset = TranscriptDataset(api_key=GOOGLE_API_KEY,\n",
    "                            channels=[value for key, value in CHANNELS.items()],\n",
    "                            count_per_channel=30)\n",
    "dataset.save('output.json')"
   ]
  }
 ],
 "metadata": {
  "kernelspec": {
   "display_name": "Python 3 (ipykernel)",
   "language": "python",
   "name": "python3"
  },
  "language_info": {
   "codemirror_mode": {
    "name": "ipython",
    "version": 3
   },
   "file_extension": ".py",
   "mimetype": "text/x-python",
   "name": "python",
   "nbconvert_exporter": "python",
   "pygments_lexer": "ipython3",
   "version": "3.11.5"
  }
 },
 "nbformat": 4,
 "nbformat_minor": 5
}
